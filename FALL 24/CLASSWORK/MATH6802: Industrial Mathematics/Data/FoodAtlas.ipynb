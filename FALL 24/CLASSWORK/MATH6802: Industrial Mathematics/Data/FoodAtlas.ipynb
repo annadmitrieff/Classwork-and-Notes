{
 "cells": [
  {
   "cell_type": "markdown",
   "metadata": {},
   "source": [
    "**Food Atlas Data**\n",
    "The US Food Atlas provides county data across the United States on regions with lower food accessibility.\n",
    "In parsing through these data, we must:\n",
    "- Import the data to Python.\n",
    "- Convert the data to a workable datatype (`df` (DataFrame), in this case).\n",
    "- Extract Georgia-specific data.\n",
    "- Identify and extract relevant variables from these data (spreadsheet provides description of variables).\n",
    "- Visualize these data graphically (choropleth) enabling correlational comparisons to MTMG data."
   ]
  },
  {
   "cell_type": "markdown",
   "metadata": {},
   "source": [
    "Libraries are essentially pre-made toolkits equipped with functions and features we can use to (in this case) manipulate data without building these methods from scratch ourselves.\n",
    "Importing relevant libraries:"
   ]
  },
  {
   "cell_type": "code",
   "execution_count": null,
   "metadata": {},
   "outputs": [],
   "source": [
    "import json\n",
    "import plotly\n",
    "import pandas as pd\n",
    "import plotly.io as pio\n",
    "import geopandas as gpd\n",
    "import matplotlib.pyplot as plt\n",
    "\n",
    "from plotly import graph_objects as go\n",
    "\n",
    "# Mapbox Access Token\n",
    "pio.templates.default = \"plotly\"\n",
    "mapbox_access_token = \"pk.eyJ1Ijoibm5kbXRyZmYiLCJhIjoiY20xYmFtc2pvMGx1czJrb2ZqZHRqdHMxbCJ9.BghPzt_eZzDNAV12Lx54-w\""
   ]
  },
  {
   "cell_type": "markdown",
   "metadata": {},
   "source": [
    "Loading the Excel file:\n",
    "- Define the path to the file (the path to its location on my machine).\n",
    "- Load the file in, specifically referencing the third worksheet, which is the sheet that contains relevant data (the index starts at 0).\n",
    "- Extract all data in the column `State` with the keyword `Georgia`, eliminating case specificity from my query.\n",
    "- Display the resulted dataframe."
   ]
  },
  {
   "cell_type": "code",
   "execution_count": null,
   "metadata": {},
   "outputs": [],
   "source": [
    "file_path = '/Users/anniem/Desktop/6802_DATA/Data/FoodAccessResearchAtlasData2019.xlsx'     # defining the path to the file.\n",
    "\n",
    "df = pd.read_excel(file_path, sheet_name=2)                                                 # loading the third sheet.\n",
    "\n",
    "filtered_df = df[df['State'].str.contains('georgia', case=False, na=False)]                 # parses through 'State' column for strings containing 'Georgia'.\n",
    "\n",
    "# display(filtered_df)                                                                      # displays filtered dataframe."
   ]
  },
  {
   "cell_type": "markdown",
   "metadata": {},
   "source": [
    "Now that we've displayed our data, we have to consider what exactly we're looking at. The worksheet offers an extensive list of variables in the second sheet, so let's repeat the same process as above to take a look at them:"
   ]
  },
  {
   "cell_type": "code",
   "execution_count": null,
   "metadata": {},
   "outputs": [],
   "source": [
    "vars_df = pd.read_excel(file_path, sheet_name=1)    # loading the second sheet.\n",
    "\n",
    "pd.set_option('display.max_rows', None)             # change `15` to `None` to display all rows.\n",
    "pd.set_option('display.max_colwidth', 80)           # change `80` to `None` to unwrap columns.\n",
    "\n",
    "# display(vars_df)                                  # displays filtered dataframe."
   ]
  },
  {
   "cell_type": "markdown",
   "metadata": {},
   "source": [
    "Expectedly, this is *a lot* to parse through! Here are a few notable demographic variables I identified (not a comprehensive list):\n",
    "\n",
    "- 146: `TractSNAP`\n",
    "    - Total count of housing units receiving SNAP benefits in tract (Census Tract of region).\n",
    "- 145: `TractHUNV`\n",
    "    - Total count of housing units without a vehicle in region.\n",
    "- 135: `TractLOWI`\n",
    "    - Total count of low-income population in region.\n",
    "- 133: `lasnap20`\n",
    "    - Count of housing units receiving SNAP benefits count beyond 20 miles from supermarket.\n",
    "- 131: `lahunv20`\n",
    "    - Count of housing units without vehicle beyond 20 miles from supermarket.\n",
    "- 115: `laseniors20`\n",
    "    - Count of low-access seniors (65+) beyond 20 miles from supermarket.\n",
    "- 113: `lakids20`\n",
    "    - Count of low-access kids (0-17) beyond 20 miles from supermarket.\n",
    "\n",
    "- These data are repeated for 10 miles and <10 miles (1-5 miles).\n",
    "\n",
    "I chose these data specifically because they can give us an idea of the 'big picture' of location- and income-based food insecurity. More detailed demographic data bears significance, too, and I'll be looking at that later on once I get these larger regions mapped out.\n",
    "\n",
    "As far as generating a preliminary choropleth goes, I'll be using:\n",
    "- `LILATracts_1And10`\n",
    "    - Flag for low-income and low-access tracts measured at 1 mile for urban areas and 10 miles for rural areas.\n",
    "- `LILATracts_halfAnd10`\n",
    "    - Flag for low-income and low-access tracts measured at 1/2 mile for urban areas and 10 miles for rural areas.\n",
    "- `PovertyRate`\n",
    "    - Share of the tract population living at or below the federal poverty thresholds for family size.\n",
    "- `LAPOP1_10`\n",
    "    - Population count beyond 1 mile for urban areas or 10 miles for rural areas from a supermarket.\n",
    "- `TractLOWI`\n",
    "    - Total count of low-income population in the tract.\n",
    "\n",
    "... as potential datasources. Let's try that out:"
   ]
  },
  {
   "cell_type": "markdown",
   "metadata": {},
   "source": [
    "Alternative Shapefile Datasets: \n",
    "\n",
    "https://www.sciencebase.gov/catalog/item/59fa9f5be4b0531197affb23\n",
    "\n",
    "https://gagiohome-gagio.hub.arcgis.com/search?collection=dataset&sort=Date%20Updated%7Cmodified%7Cdesc"
   ]
  },
  {
   "cell_type": "code",
   "execution_count": null,
   "metadata": {},
   "outputs": [],
   "source": [
    "# Load the GeoJSON file\n",
    "geo_georgia = gpd.read_file('/Users/anniem/Desktop/6802_DATA/Data/georgia-with-county-boundaries_1092.geojson')\n",
    "geo_georgia_json = json.loads(geo_georgia.to_json())\n",
    "\n",
    "# Remove \" County\" suffix from the filtered DataFrame\n",
    "filtered_df['County'] = filtered_df['County'].str.replace(' County', '', regex=False)"
   ]
  },
  {
   "cell_type": "code",
   "execution_count": null,
   "metadata": {},
   "outputs": [],
   "source": [
    "# Create the figure object\n",
    "fig1 = go.Figure(\n",
    "    go.Choroplethmapbox(\n",
    "        geojson=geo_georgia_json,\n",
    "        featureidkey=\"properties.name\",  # Match the GeoJSON key\n",
    "        locations=filtered_df[\"County\"],  # DataFrame column with counties\n",
    "        z=filtered_df[\"LAPOP1_10\"],  # Values to color\n",
    "        zauto=True,\n",
    "        colorscale='YlGnBu',\n",
    "        showscale=True,\n",
    "    )\n",
    ")\n",
    "# Blackbody,Bluered,Blues,C ividis,Earth,Electric,Greens,Greys,Hot,Jet,Picnic,Portl and,Rainbow,RdBu,Reds,Viridis,YlGnBu,YlOrRd.\n",
    "\n",
    "# Update layout with Mapbox settings\n",
    "fig1.update_layout(\n",
    "    mapbox_accesstoken=mapbox_access_token,\n",
    "    mapbox_style=\"carto-positron\",\n",
    "    mapbox_zoom=6, \n",
    "    mapbox_center={\"lat\": 32.5, \"lon\": -83.5},  # Center the map over Georgia\n",
    "    title_x=0.5,\n",
    "    title_y=0.95,\n",
    "    title_text=\"Georgia Population Count Beyond 1 Mile (Urban) or 10 Miles (Rural) from a Supermarket\",\n",
    "    margin=dict(\n",
    "                l=0,\n",
    "                r=0,\n",
    "                b=0,\n",
    "                t=90,\n",
    "                pad=4,\n",
    "                autoexpand=True\n",
    "    ),\n",
    "    width=800,\n",
    "    height=800\n",
    ")\n",
    "\n",
    "# Show the figure\n",
    "fig1.show()\n"
   ]
  },
  {
   "cell_type": "code",
   "execution_count": null,
   "metadata": {},
   "outputs": [],
   "source": [
    "# Create the figure object\n",
    "fig1 = go.Figure(\n",
    "    go.Choroplethmapbox(\n",
    "        geojson=geo_georgia_json,\n",
    "        featureidkey=\"properties.name\",  # Match the GeoJSON key\n",
    "        locations=filtered_df[\"County\"],  # DataFrame column with counties\n",
    "        z=filtered_df[\"LILATracts_halfAnd10\"],  # Values to color\n",
    "        zauto=True,\n",
    "        colorscale='tealgrn',\n",
    "        showscale=True,\n",
    "    )\n",
    ")\n",
    "# Blackbody,Bluered,Blues,C ividis,Earth,Electric,Greens,Greys,Hot,Jet,Picnic,Portl and,Rainbow,RdBu,Reds,Viridis,YlGnBu,YlOrRd.\n",
    "\n",
    "# Update layout with Mapbox settings\n",
    "# low-income and low-access tracts measured at 1/2 mile for urban areas and 10 miles for rural areas\n",
    "fig1.update_layout(\n",
    "    mapbox_accesstoken=mapbox_access_token,\n",
    "    mapbox_style=\"carto-positron\",\n",
    "    mapbox_zoom=6,\n",
    "    mapbox_center={\"lat\": 32.5, \"lon\": -83.5},  # Center the map over Georgia\n",
    "    title_x=0.5,\n",
    "    title_y=0.95,\n",
    "    title_text=\"Low-Income and Low-Access Tracts Beyond 1/2 Mile (Urban) or 10 Mile (Rural) from a Supermarket\",\n",
    "    margin=dict(\n",
    "                l=0,\n",
    "                r=0,\n",
    "                b=0,\n",
    "                t=90,\n",
    "                pad=4,\n",
    "                autoexpand=True\n",
    "    ),\n",
    "    width=900,\n",
    "    height=800\n",
    ")\n",
    "\n",
    "# Show the figure\n",
    "fig1.show()\n"
   ]
  },
  {
   "cell_type": "code",
   "execution_count": null,
   "metadata": {},
   "outputs": [],
   "source": [
    "# Create the figure object\n",
    "fig1 = go.Figure(\n",
    "    go.Choroplethmapbox(\n",
    "        geojson=geo_georgia_json,\n",
    "        featureidkey=\"properties.name\",  # Match the GeoJSON key\n",
    "        locations=filtered_df[\"County\"],  # DataFrame column with counties\n",
    "        z=filtered_df[\"TractLOWI\"],         # Values to color\n",
    "        zauto=True,\n",
    "        colorscale='YlGnBu',\n",
    "        showscale=True,\n",
    "    )\n",
    ")\n",
    "# Blackbody,Bluered,Blues,C ividis,Earth,Electric,Greens,Greys,Hot,Jet,Picnic,Portl and,Rainbow,RdBu,Reds,Viridis,YlGnBu,YlOrRd.\n",
    "\n",
    "# Update layout with Mapbox settings\n",
    "# low-income and low-access tracts measured at 1/2 mile for urban areas and 10 miles for rural areas\n",
    "fig1.update_layout(\n",
    "    mapbox_accesstoken=mapbox_access_token,\n",
    "    mapbox_style=\"carto-positron\",  \n",
    "    mapbox_zoom=6,\n",
    "    mapbox_center={\"lat\": 32.5, \"lon\": -83.5},  # Center the map over Georgia\n",
    "    title_x=0.5,\n",
    "    title_y=0.95,\n",
    "    title_text=\"Total Count of Low Income Population in Tract\",\n",
    "    margin=dict(\n",
    "                l=0,\n",
    "                r=0,\n",
    "                b=0,\n",
    "                t=90,\n",
    "                pad=4,\n",
    "                autoexpand=True\n",
    "    ),\n",
    "    width=900,\n",
    "    height=800\n",
    ")\n",
    "\n",
    "# Show the figure\n",
    "fig1.show()\n"
   ]
  }
 ],
 "metadata": {
  "kernelspec": {
   "display_name": "6802env",
   "language": "python",
   "name": "python3"
  },
  "language_info": {
   "codemirror_mode": {
    "name": "ipython",
    "version": 3
   },
   "file_extension": ".py",
   "mimetype": "text/x-python",
   "name": "python",
   "nbconvert_exporter": "python",
   "pygments_lexer": "ipython3",
   "version": "3.12.5"
  }
 },
 "nbformat": 4,
 "nbformat_minor": 2
}
